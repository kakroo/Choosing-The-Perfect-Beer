{
 "cells": [
  {
   "cell_type": "markdown",
   "metadata": {},
   "source": [
    "# The Perfect Beer"
   ]
  },
  {
   "cell_type": "markdown",
   "metadata": {},
   "source": [
    "### https://www.machinehack.com/course/how-to-choose-the-perfect-beer/"
   ]
  },
  {
   "cell_type": "markdown",
   "metadata": {},
   "source": [
    "###### Import Statements"
   ]
  },
  {
   "cell_type": "code",
   "execution_count": 2,
   "metadata": {
    "collapsed": true
   },
   "outputs": [],
   "source": [
    "import pandas as pd\n",
    "import seaborn as sns\n",
    "%matplotlib inline\n",
    "import numpy as np\n",
    "from sklearn.ensemble import RandomForestClassifier, GradientBoostingClassifier\n",
    "from sklearn.linear_model import LogisticRegression\n",
    "from sklearn.metrics import accuracy_score, confusion_matrix, roc_curve, roc_auc_score\n",
    "from sklearn.model_selection import train_test_split, cross_val_score\n",
    "import matplotlib.pyplot as plt\n",
    "from sklearn.neural_network import MLPClassifier\n",
    "from sklearn.neighbors import KNeighborsClassifier\n",
    "from sklearn.model_selection import StratifiedKFold\n",
    "\n",
    "# Import and suppress warnings\n",
    "import warnings\n",
    "warnings.filterwarnings('ignore')"
   ]
  },
  {
   "cell_type": "markdown",
   "metadata": {},
   "source": [
    "###### Load Beer Data"
   ]
  },
  {
   "cell_type": "code",
   "execution_count": 3,
   "metadata": {
    "collapsed": true
   },
   "outputs": [],
   "source": [
    "beer= pd.read_csv('../Data/Beer Train Data Set.csv')"
   ]
  },
  {
   "cell_type": "markdown",
   "metadata": {},
   "source": [
    "##### See Imported Data"
   ]
  },
  {
   "cell_type": "code",
   "execution_count": 4,
   "metadata": {},
   "outputs": [
    {
     "data": {
      "text/html": [
       "<div>\n",
       "<style>\n",
       "    .dataframe thead tr:only-child th {\n",
       "        text-align: right;\n",
       "    }\n",
       "\n",
       "    .dataframe thead th {\n",
       "        text-align: left;\n",
       "    }\n",
       "\n",
       "    .dataframe tbody tr th {\n",
       "        vertical-align: top;\n",
       "    }\n",
       "</style>\n",
       "<table border=\"1\" class=\"dataframe\">\n",
       "  <thead>\n",
       "    <tr style=\"text-align: right;\">\n",
       "      <th></th>\n",
       "      <th>ABV</th>\n",
       "      <th>Brewing Company</th>\n",
       "      <th>Food Paring</th>\n",
       "      <th>Glassware Used</th>\n",
       "      <th>Beer Name</th>\n",
       "      <th>Ratings</th>\n",
       "      <th>Style Name</th>\n",
       "      <th>Cellar Temperature</th>\n",
       "      <th>Serving Temperature</th>\n",
       "      <th>Score</th>\n",
       "    </tr>\n",
       "  </thead>\n",
       "  <tbody>\n",
       "    <tr>\n",
       "      <th>0</th>\n",
       "      <td>6.5</td>\n",
       "      <td>8929</td>\n",
       "      <td>(Curried,Thai)Cheese(pepperyMontereyPepperJack...</td>\n",
       "      <td>PintGlass(orBecker,Nonic,Tumbler),Mug(orSeidel...</td>\n",
       "      <td>15121</td>\n",
       "      <td>22</td>\n",
       "      <td>AmericanIPA</td>\n",
       "      <td>40-45</td>\n",
       "      <td>45-50</td>\n",
       "      <td>3.28</td>\n",
       "    </tr>\n",
       "    <tr>\n",
       "      <th>1</th>\n",
       "      <td>5.5</td>\n",
       "      <td>13187</td>\n",
       "      <td>(PanAsian)Cheese(earthyCamembert,Fontina,nutty...</td>\n",
       "      <td>PintGlass(orBecker,Nonic,Tumbler),Mug(orSeidel...</td>\n",
       "      <td>59817</td>\n",
       "      <td>1</td>\n",
       "      <td>AmericanPaleAle(APA)</td>\n",
       "      <td>35-40</td>\n",
       "      <td>40-45</td>\n",
       "      <td>3.52</td>\n",
       "    </tr>\n",
       "    <tr>\n",
       "      <th>2</th>\n",
       "      <td>8.1</td>\n",
       "      <td>6834</td>\n",
       "      <td>Meat(Pork,Poultry)</td>\n",
       "      <td>PintGlass(orBecker,Nonic,Tumbler),Mug(orSeidel...</td>\n",
       "      <td>32669</td>\n",
       "      <td>3</td>\n",
       "      <td>IrishRedAle</td>\n",
       "      <td>35-40</td>\n",
       "      <td>40-45</td>\n",
       "      <td>4.01</td>\n",
       "    </tr>\n",
       "    <tr>\n",
       "      <th>3</th>\n",
       "      <td>NaN</td>\n",
       "      <td>11688</td>\n",
       "      <td>(Indian,LatinAmerican,PanAsian)General(Aperitif)</td>\n",
       "      <td>PintGlass(orBecker,Nonic,Tumbler),PilsenerGlas...</td>\n",
       "      <td>130798</td>\n",
       "      <td>0</td>\n",
       "      <td>AmericanMaltLiquor</td>\n",
       "      <td>35-40</td>\n",
       "      <td>35-40</td>\n",
       "      <td>0.00</td>\n",
       "    </tr>\n",
       "    <tr>\n",
       "      <th>4</th>\n",
       "      <td>6.0</td>\n",
       "      <td>10417</td>\n",
       "      <td>Meat(Poultry,Fish,Shellfish)</td>\n",
       "      <td>PilsenerGlass(orPokal)</td>\n",
       "      <td>124087</td>\n",
       "      <td>1</td>\n",
       "      <td>EuroPaleLager</td>\n",
       "      <td>35-40</td>\n",
       "      <td>40-45</td>\n",
       "      <td>2.73</td>\n",
       "    </tr>\n",
       "  </tbody>\n",
       "</table>\n",
       "</div>"
      ],
      "text/plain": [
       "   ABV  Brewing Company                                        Food Paring  \\\n",
       "0  6.5             8929  (Curried,Thai)Cheese(pepperyMontereyPepperJack...   \n",
       "1  5.5            13187  (PanAsian)Cheese(earthyCamembert,Fontina,nutty...   \n",
       "2  8.1             6834                                 Meat(Pork,Poultry)   \n",
       "3  NaN            11688   (Indian,LatinAmerican,PanAsian)General(Aperitif)   \n",
       "4  6.0            10417                       Meat(Poultry,Fish,Shellfish)   \n",
       "\n",
       "                                      Glassware Used  Beer Name Ratings  \\\n",
       "0  PintGlass(orBecker,Nonic,Tumbler),Mug(orSeidel...      15121      22   \n",
       "1  PintGlass(orBecker,Nonic,Tumbler),Mug(orSeidel...      59817       1   \n",
       "2  PintGlass(orBecker,Nonic,Tumbler),Mug(orSeidel...      32669       3   \n",
       "3  PintGlass(orBecker,Nonic,Tumbler),PilsenerGlas...     130798       0   \n",
       "4                             PilsenerGlass(orPokal)     124087       1   \n",
       "\n",
       "             Style Name Cellar Temperature Serving Temperature  Score  \n",
       "0           AmericanIPA              40-45               45-50   3.28  \n",
       "1  AmericanPaleAle(APA)              35-40               40-45   3.52  \n",
       "2           IrishRedAle              35-40               40-45   4.01  \n",
       "3    AmericanMaltLiquor              35-40               35-40   0.00  \n",
       "4         EuroPaleLager              35-40               40-45   2.73  "
      ]
     },
     "execution_count": 4,
     "metadata": {},
     "output_type": "execute_result"
    }
   ],
   "source": [
    "beer.head()"
   ]
  },
  {
   "cell_type": "markdown",
   "metadata": {},
   "source": [
    "###### Checking basic health of data"
   ]
  },
  {
   "cell_type": "code",
   "execution_count": 5,
   "metadata": {},
   "outputs": [
    {
     "data": {
      "text/html": [
       "<div>\n",
       "<style>\n",
       "    .dataframe thead tr:only-child th {\n",
       "        text-align: right;\n",
       "    }\n",
       "\n",
       "    .dataframe thead th {\n",
       "        text-align: left;\n",
       "    }\n",
       "\n",
       "    .dataframe tbody tr th {\n",
       "        vertical-align: top;\n",
       "    }\n",
       "</style>\n",
       "<table border=\"1\" class=\"dataframe\">\n",
       "  <thead>\n",
       "    <tr style=\"text-align: right;\">\n",
       "      <th></th>\n",
       "      <th>ABV</th>\n",
       "      <th>Brewing Company</th>\n",
       "      <th>Beer Name</th>\n",
       "      <th>Score</th>\n",
       "    </tr>\n",
       "  </thead>\n",
       "  <tbody>\n",
       "    <tr>\n",
       "      <th>count</th>\n",
       "      <td>170513.000000</td>\n",
       "      <td>185643.000000</td>\n",
       "      <td>185643.000000</td>\n",
       "      <td>185643.000000</td>\n",
       "    </tr>\n",
       "    <tr>\n",
       "      <th>mean</th>\n",
       "      <td>6.354961</td>\n",
       "      <td>7008.757659</td>\n",
       "      <td>83738.220111</td>\n",
       "      <td>3.198432</td>\n",
       "    </tr>\n",
       "    <tr>\n",
       "      <th>std</th>\n",
       "      <td>1.907205</td>\n",
       "      <td>3914.168053</td>\n",
       "      <td>48520.065146</td>\n",
       "      <td>1.358862</td>\n",
       "    </tr>\n",
       "    <tr>\n",
       "      <th>min</th>\n",
       "      <td>0.010000</td>\n",
       "      <td>0.000000</td>\n",
       "      <td>0.000000</td>\n",
       "      <td>0.000000</td>\n",
       "    </tr>\n",
       "    <tr>\n",
       "      <th>25%</th>\n",
       "      <td>5.000000</td>\n",
       "      <td>3825.000000</td>\n",
       "      <td>41232.500000</td>\n",
       "      <td>3.270000</td>\n",
       "    </tr>\n",
       "    <tr>\n",
       "      <th>50%</th>\n",
       "      <td>6.000000</td>\n",
       "      <td>7111.000000</td>\n",
       "      <td>83335.000000</td>\n",
       "      <td>3.710000</td>\n",
       "    </tr>\n",
       "    <tr>\n",
       "      <th>75%</th>\n",
       "      <td>7.200000</td>\n",
       "      <td>10402.000000</td>\n",
       "      <td>125148.500000</td>\n",
       "      <td>3.970000</td>\n",
       "    </tr>\n",
       "    <tr>\n",
       "      <th>max</th>\n",
       "      <td>80.000000</td>\n",
       "      <td>13541.000000</td>\n",
       "      <td>168534.000000</td>\n",
       "      <td>5.000000</td>\n",
       "    </tr>\n",
       "  </tbody>\n",
       "</table>\n",
       "</div>"
      ],
      "text/plain": [
       "                 ABV  Brewing Company      Beer Name          Score\n",
       "count  170513.000000    185643.000000  185643.000000  185643.000000\n",
       "mean        6.354961      7008.757659   83738.220111       3.198432\n",
       "std         1.907205      3914.168053   48520.065146       1.358862\n",
       "min         0.010000         0.000000       0.000000       0.000000\n",
       "25%         5.000000      3825.000000   41232.500000       3.270000\n",
       "50%         6.000000      7111.000000   83335.000000       3.710000\n",
       "75%         7.200000     10402.000000  125148.500000       3.970000\n",
       "max        80.000000     13541.000000  168534.000000       5.000000"
      ]
     },
     "execution_count": 5,
     "metadata": {},
     "output_type": "execute_result"
    }
   ],
   "source": [
    "beer.describe()"
   ]
  },
  {
   "cell_type": "markdown",
   "metadata": {},
   "source": [
    "##### Checking for nulls in data"
   ]
  },
  {
   "cell_type": "code",
   "execution_count": 6,
   "metadata": {},
   "outputs": [
    {
     "data": {
      "text/plain": [
       "ABV                     True\n",
       "Brewing Company        False\n",
       "Food Paring            False\n",
       "Glassware Used         False\n",
       "Beer Name              False\n",
       "Ratings                False\n",
       "Style Name             False\n",
       "Cellar Temperature      True\n",
       "Serving Temperature     True\n",
       "Score                  False\n",
       "dtype: bool"
      ]
     },
     "execution_count": 6,
     "metadata": {},
     "output_type": "execute_result"
    }
   ],
   "source": [
    "beer.isnull().any()"
   ]
  },
  {
   "cell_type": "code",
   "execution_count": 18,
   "metadata": {},
   "outputs": [
    {
     "data": {
      "text/plain": [
       "ABV                    float64\n",
       "Brewing Company          int64\n",
       "Food Paring             object\n",
       "Glassware Used          object\n",
       "Beer Name                int64\n",
       "Ratings                 object\n",
       "Style Name              object\n",
       "Cellar Temperature      object\n",
       "Serving Temperature     object\n",
       "Score                  float64\n",
       "dtype: object"
      ]
     },
     "execution_count": 18,
     "metadata": {},
     "output_type": "execute_result"
    }
   ],
   "source": [
    "beer.dtypes"
   ]
  },
  {
   "cell_type": "code",
   "execution_count": 7,
   "metadata": {},
   "outputs": [
    {
     "name": "stdout",
     "output_type": "stream",
     "text": [
      "<class 'pandas.core.frame.DataFrame'>\n",
      "RangeIndex: 185643 entries, 0 to 185642\n",
      "Data columns (total 10 columns):\n",
      "ABV                    170513 non-null float64\n",
      "Brewing Company        185643 non-null int64\n",
      "Food Paring            185643 non-null object\n",
      "Glassware Used         185643 non-null object\n",
      "Beer Name              185643 non-null int64\n",
      "Ratings                185643 non-null object\n",
      "Style Name             185643 non-null object\n",
      "Cellar Temperature     178862 non-null object\n",
      "Serving Temperature    185450 non-null object\n",
      "Score                  185643 non-null float64\n",
      "dtypes: float64(2), int64(2), object(6)\n",
      "memory usage: 14.2+ MB\n"
     ]
    }
   ],
   "source": [
    "beer.info()"
   ]
  },
  {
   "cell_type": "markdown",
   "metadata": {},
   "source": [
    "Here we can see that **ABV, Cellar Temperature and Serving Temperature** have some missing values. We need to handle these "
   ]
  },
  {
   "cell_type": "code",
   "execution_count": 8,
   "metadata": {},
   "outputs": [
    {
     "data": {
      "text/plain": [
       "13350"
      ]
     },
     "execution_count": 8,
     "metadata": {},
     "output_type": "execute_result"
    }
   ],
   "source": [
    "beer['Food Paring'].value_counts().head()\n",
    "beer['Brewing Company'].value_counts().head()\n",
    "beer['Brewing Company'].value_counts(dropna=False).head()\n",
    "beer['Brewing Company'].nunique()"
   ]
  },
  {
   "cell_type": "code",
   "execution_count": 9,
   "metadata": {},
   "outputs": [
    {
     "data": {
      "text/html": [
       "<div>\n",
       "<style>\n",
       "    .dataframe thead tr:only-child th {\n",
       "        text-align: right;\n",
       "    }\n",
       "\n",
       "    .dataframe thead th {\n",
       "        text-align: left;\n",
       "    }\n",
       "\n",
       "    .dataframe tbody tr th {\n",
       "        vertical-align: top;\n",
       "    }\n",
       "</style>\n",
       "<table border=\"1\" class=\"dataframe\">\n",
       "  <thead>\n",
       "    <tr style=\"text-align: right;\">\n",
       "      <th></th>\n",
       "      <th>ABV</th>\n",
       "      <th>Brewing Company</th>\n",
       "      <th>Food Paring</th>\n",
       "      <th>Glassware Used</th>\n",
       "      <th>Beer Name</th>\n",
       "      <th>Ratings</th>\n",
       "      <th>Style Name</th>\n",
       "      <th>Cellar Temperature</th>\n",
       "      <th>Serving Temperature</th>\n",
       "      <th>Score</th>\n",
       "    </tr>\n",
       "  </thead>\n",
       "  <tbody>\n",
       "    <tr>\n",
       "      <th>0</th>\n",
       "      <td>6.5</td>\n",
       "      <td>8929</td>\n",
       "      <td>(Curried,Thai)Cheese(pepperyMontereyPepperJack...</td>\n",
       "      <td>PintGlass(orBecker,Nonic,Tumbler),Mug(orSeidel...</td>\n",
       "      <td>15121</td>\n",
       "      <td>22</td>\n",
       "      <td>AmericanIPA</td>\n",
       "      <td>40-45</td>\n",
       "      <td>45-50</td>\n",
       "      <td>3.28</td>\n",
       "    </tr>\n",
       "    <tr>\n",
       "      <th>1</th>\n",
       "      <td>5.5</td>\n",
       "      <td>13187</td>\n",
       "      <td>(PanAsian)Cheese(earthyCamembert,Fontina,nutty...</td>\n",
       "      <td>PintGlass(orBecker,Nonic,Tumbler),Mug(orSeidel...</td>\n",
       "      <td>59817</td>\n",
       "      <td>1</td>\n",
       "      <td>AmericanPaleAle(APA)</td>\n",
       "      <td>35-40</td>\n",
       "      <td>40-45</td>\n",
       "      <td>3.52</td>\n",
       "    </tr>\n",
       "    <tr>\n",
       "      <th>2</th>\n",
       "      <td>8.1</td>\n",
       "      <td>6834</td>\n",
       "      <td>Meat(Pork,Poultry)</td>\n",
       "      <td>PintGlass(orBecker,Nonic,Tumbler),Mug(orSeidel...</td>\n",
       "      <td>32669</td>\n",
       "      <td>3</td>\n",
       "      <td>IrishRedAle</td>\n",
       "      <td>35-40</td>\n",
       "      <td>40-45</td>\n",
       "      <td>4.01</td>\n",
       "    </tr>\n",
       "    <tr>\n",
       "      <th>3</th>\n",
       "      <td>NaN</td>\n",
       "      <td>11688</td>\n",
       "      <td>(Indian,LatinAmerican,PanAsian)General(Aperitif)</td>\n",
       "      <td>PintGlass(orBecker,Nonic,Tumbler),PilsenerGlas...</td>\n",
       "      <td>130798</td>\n",
       "      <td>0</td>\n",
       "      <td>AmericanMaltLiquor</td>\n",
       "      <td>35-40</td>\n",
       "      <td>35-40</td>\n",
       "      <td>0.00</td>\n",
       "    </tr>\n",
       "    <tr>\n",
       "      <th>4</th>\n",
       "      <td>6.0</td>\n",
       "      <td>10417</td>\n",
       "      <td>Meat(Poultry,Fish,Shellfish)</td>\n",
       "      <td>PilsenerGlass(orPokal)</td>\n",
       "      <td>124087</td>\n",
       "      <td>1</td>\n",
       "      <td>EuroPaleLager</td>\n",
       "      <td>35-40</td>\n",
       "      <td>40-45</td>\n",
       "      <td>2.73</td>\n",
       "    </tr>\n",
       "  </tbody>\n",
       "</table>\n",
       "</div>"
      ],
      "text/plain": [
       "   ABV  Brewing Company                                        Food Paring  \\\n",
       "0  6.5             8929  (Curried,Thai)Cheese(pepperyMontereyPepperJack...   \n",
       "1  5.5            13187  (PanAsian)Cheese(earthyCamembert,Fontina,nutty...   \n",
       "2  8.1             6834                                 Meat(Pork,Poultry)   \n",
       "3  NaN            11688   (Indian,LatinAmerican,PanAsian)General(Aperitif)   \n",
       "4  6.0            10417                       Meat(Poultry,Fish,Shellfish)   \n",
       "\n",
       "                                      Glassware Used  Beer Name Ratings  \\\n",
       "0  PintGlass(orBecker,Nonic,Tumbler),Mug(orSeidel...      15121      22   \n",
       "1  PintGlass(orBecker,Nonic,Tumbler),Mug(orSeidel...      59817       1   \n",
       "2  PintGlass(orBecker,Nonic,Tumbler),Mug(orSeidel...      32669       3   \n",
       "3  PintGlass(orBecker,Nonic,Tumbler),PilsenerGlas...     130798       0   \n",
       "4                             PilsenerGlass(orPokal)     124087       1   \n",
       "\n",
       "             Style Name Cellar Temperature Serving Temperature  Score  \n",
       "0           AmericanIPA              40-45               45-50   3.28  \n",
       "1  AmericanPaleAle(APA)              35-40               40-45   3.52  \n",
       "2           IrishRedAle              35-40               40-45   4.01  \n",
       "3    AmericanMaltLiquor              35-40               35-40   0.00  \n",
       "4         EuroPaleLager              35-40               40-45   2.73  "
      ]
     },
     "execution_count": 9,
     "metadata": {},
     "output_type": "execute_result"
    }
   ],
   "source": [
    "beer.head()"
   ]
  },
  {
   "cell_type": "code",
   "execution_count": 10,
   "metadata": {},
   "outputs": [
    {
     "data": {
      "text/html": [
       "<div>\n",
       "<style>\n",
       "    .dataframe thead tr:only-child th {\n",
       "        text-align: right;\n",
       "    }\n",
       "\n",
       "    .dataframe thead th {\n",
       "        text-align: left;\n",
       "    }\n",
       "\n",
       "    .dataframe tbody tr th {\n",
       "        vertical-align: top;\n",
       "    }\n",
       "</style>\n",
       "<table border=\"1\" class=\"dataframe\">\n",
       "  <thead>\n",
       "    <tr style=\"text-align: right;\">\n",
       "      <th></th>\n",
       "      <th>ABV</th>\n",
       "      <th>Brewing Company</th>\n",
       "      <th>Food Paring</th>\n",
       "      <th>Glassware Used</th>\n",
       "      <th>Beer Name</th>\n",
       "      <th>Ratings</th>\n",
       "      <th>Style Name</th>\n",
       "      <th>Cellar Temperature</th>\n",
       "      <th>Serving Temperature</th>\n",
       "      <th>Score</th>\n",
       "    </tr>\n",
       "  </thead>\n",
       "  <tbody>\n",
       "    <tr>\n",
       "      <th>3</th>\n",
       "      <td>NaN</td>\n",
       "      <td>11688</td>\n",
       "      <td>(Indian,LatinAmerican,PanAsian)General(Aperitif)</td>\n",
       "      <td>PintGlass(orBecker,Nonic,Tumbler),PilsenerGlas...</td>\n",
       "      <td>130798</td>\n",
       "      <td>0</td>\n",
       "      <td>AmericanMaltLiquor</td>\n",
       "      <td>35-40</td>\n",
       "      <td>35-40</td>\n",
       "      <td>0.00</td>\n",
       "    </tr>\n",
       "    <tr>\n",
       "      <th>23</th>\n",
       "      <td>NaN</td>\n",
       "      <td>6467</td>\n",
       "      <td>(German)General(Chocolate,Dessert)Meat(Grilled...</td>\n",
       "      <td>Flute,WeizenGlass</td>\n",
       "      <td>68191</td>\n",
       "      <td>8</td>\n",
       "      <td>Weizenbock</td>\n",
       "      <td>40-45</td>\n",
       "      <td>45-50</td>\n",
       "      <td>3.79</td>\n",
       "    </tr>\n",
       "    <tr>\n",
       "      <th>82</th>\n",
       "      <td>NaN</td>\n",
       "      <td>10039</td>\n",
       "      <td>(Curried,Thai)Cheese(pepperyMontereyPepperJack...</td>\n",
       "      <td>PintGlass(orBecker,Nonic,Tumbler),Mug(orSeidel...</td>\n",
       "      <td>114559</td>\n",
       "      <td>0</td>\n",
       "      <td>AmericanIPA</td>\n",
       "      <td>40-45</td>\n",
       "      <td>45-50</td>\n",
       "      <td>0.00</td>\n",
       "    </tr>\n",
       "    <tr>\n",
       "      <th>85</th>\n",
       "      <td>NaN</td>\n",
       "      <td>5536</td>\n",
       "      <td>Meat(Pork,Poultry)</td>\n",
       "      <td>PintGlass(orBecker,Nonic,Tumbler),Mug(orSeidel...</td>\n",
       "      <td>55399</td>\n",
       "      <td>6</td>\n",
       "      <td>IrishRedAle</td>\n",
       "      <td>35-40</td>\n",
       "      <td>40-45</td>\n",
       "      <td>3.13</td>\n",
       "    </tr>\n",
       "    <tr>\n",
       "      <th>88</th>\n",
       "      <td>NaN</td>\n",
       "      <td>5670</td>\n",
       "      <td>(German)</td>\n",
       "      <td>Flute,PilsenerGlass(orPokal)</td>\n",
       "      <td>3128</td>\n",
       "      <td>2</td>\n",
       "      <td>Schwarzbier</td>\n",
       "      <td>40-45</td>\n",
       "      <td>45-50</td>\n",
       "      <td>3.82</td>\n",
       "    </tr>\n",
       "  </tbody>\n",
       "</table>\n",
       "</div>"
      ],
      "text/plain": [
       "    ABV  Brewing Company                                        Food Paring  \\\n",
       "3   NaN            11688   (Indian,LatinAmerican,PanAsian)General(Aperitif)   \n",
       "23  NaN             6467  (German)General(Chocolate,Dessert)Meat(Grilled...   \n",
       "82  NaN            10039  (Curried,Thai)Cheese(pepperyMontereyPepperJack...   \n",
       "85  NaN             5536                                 Meat(Pork,Poultry)   \n",
       "88  NaN             5670                                           (German)   \n",
       "\n",
       "                                       Glassware Used  Beer Name Ratings  \\\n",
       "3   PintGlass(orBecker,Nonic,Tumbler),PilsenerGlas...     130798       0   \n",
       "23                                  Flute,WeizenGlass      68191       8   \n",
       "82  PintGlass(orBecker,Nonic,Tumbler),Mug(orSeidel...     114559       0   \n",
       "85  PintGlass(orBecker,Nonic,Tumbler),Mug(orSeidel...      55399       6   \n",
       "88                       Flute,PilsenerGlass(orPokal)       3128       2   \n",
       "\n",
       "            Style Name Cellar Temperature Serving Temperature  Score  \n",
       "3   AmericanMaltLiquor              35-40               35-40   0.00  \n",
       "23          Weizenbock              40-45               45-50   3.79  \n",
       "82         AmericanIPA              40-45               45-50   0.00  \n",
       "85         IrishRedAle              35-40               40-45   3.13  \n",
       "88         Schwarzbier              40-45               45-50   3.82  "
      ]
     },
     "execution_count": 10,
     "metadata": {},
     "output_type": "execute_result"
    }
   ],
   "source": [
    "beer[beer['Brewing Company']==11688]\n",
    "\n",
    "##type(beer.ABV)\n",
    "beer[beer['Beer Name']==67447]\n",
    "##beer[beer['ABV']==]\n",
    "##trying to see of there is any relation bw ABV being null and other ones\n",
    "beer[beer.ABV.isnull()].head()\n",
    "\n"
   ]
  },
  {
   "cell_type": "markdown",
   "metadata": {},
   "source": [
    "###### Looks like there are some beers with ratings as 0, this will not help us predict anything (removing them as of now) should they be removed??"
   ]
  },
  {
   "cell_type": "code",
   "execution_count": 11,
   "metadata": {},
   "outputs": [
    {
     "data": {
      "text/plain": [
       "1824"
      ]
     },
     "execution_count": 11,
     "metadata": {},
     "output_type": "execute_result"
    }
   ],
   "source": [
    "#Checking ratin 0 ones\n",
    "#beer[beer['Ratings']==0]\n",
    "beer.Ratings.value_counts()\n",
    "beer.Ratings.nunique()"
   ]
  },
  {
   "cell_type": "markdown",
   "metadata": {},
   "source": [
    "###### Visualizing Stuff"
   ]
  },
  {
   "cell_type": "code",
   "execution_count": 19,
   "metadata": {},
   "outputs": [
    {
     "data": {
      "text/plain": [
       "<seaborn.axisgrid.PairGrid at 0x1aba74e81d0>"
      ]
     },
     "execution_count": 19,
     "metadata": {},
     "output_type": "execute_result"
    },
    {
     "data": {
      "image/png": "[encoded data removed]",
      "text/plain": [
       "<matplotlib.figure.Figure at 0x1aba74e8978>"
      ]
     },
     "metadata": {},
     "output_type": "display_data"
    }
   ],
   "source": [
    "##sns.pairplot(beer,x_vars=['ABV'], y_vars=['Score','Ratings','Cellar Temperature','Serving Temperature'],size=7,aspect=0.7,kind='reg')\n",
    "sns.pairplot(beer,x_vars=['ABV'], y_vars=['Score'],size=7,aspect=0.7,kind='reg')"
   ]
  }
 ],
 "metadata": {
  "kernelspec": {
   "display_name": "Python 3",
   "language": "python",
   "name": "python3"
  },
  "language_info": {
   "codemirror_mode": {
    "name": "ipython",
    "version": 3
   },
   "file_extension": ".py",
   "mimetype": "text/x-python",
   "name": "python",
   "nbconvert_exporter": "python",
   "pygments_lexer": "ipython3",
   "version": "3.6.2"
  }
 },
 "nbformat": 4,
 "nbformat_minor": 2
}
